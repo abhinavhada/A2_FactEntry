{
  "nbformat": 4,
  "nbformat_minor": 0,
  "metadata": {
    "colab": {
      "name": "FactEntry.ipynb",
      "provenance": [],
      "collapsed_sections": []
    },
    "kernelspec": {
      "name": "python3",
      "display_name": "Python 3"
    }
  },
  "cells": [
    {
      "cell_type": "markdown",
      "metadata": {
        "id": "n6MSPGyToZ_a",
        "colab_type": "text"
      },
      "source": [
        "FactEntry Project- Coupon Frequency"
      ]
    },
    {
      "cell_type": "code",
      "metadata": {
        "id": "5sFIymc4YdnC",
        "colab_type": "code",
        "colab": {
          "base_uri": "https://localhost:8080/",
          "height": 972
        },
        "outputId": "4b0e8d4d-6447-45d0-f904-4fb3ba6aae85"
      },
      "source": [
        "import pandas as pd \n",
        "from pydrive.auth import GoogleAuth \n",
        "from pydrive.drive import GoogleDrive\n",
        "from google.colab import auth\n",
        "from oauth2client.client import GoogleCredentials\n",
        "auth.authenticate_user()\n",
        "gauth = GoogleAuth()\n",
        "gauth.credentials = GoogleCredentials.get_application_default()\n",
        "drive = GoogleDrive(gauth)\n",
        "\n",
        "!pip install pdfminer\n",
        "!pip install pdfminer.six\n",
        "from google.colab import files\n",
        "\n",
        "\n",
        "from pdfminer.pdfinterp import PDFResourceManager, PDFPageInterpreter\n",
        "from pdfminer.converter import TextConverter\n",
        "from pdfminer.layout import LAParams\n",
        "from pdfminer.pdfpage import PDFPage\n",
        "from io import StringIO\n",
        "!pip install py-thesaurus\n",
        "\n",
        "!pip install fuzzywuzzy\n",
        "!pip install fuzzywuzzy[speedup]\n",
        "\n",
        "\n",
        "from fuzzywuzzy import fuzz\n",
        "from fuzzywuzzy import process\n",
        "\n",
        "import nltk\n",
        "assert(nltk.download('wordnet'))\n",
        "from nltk.corpus import wordnet"
      ],
      "execution_count": 2,
      "outputs": [
        {
          "output_type": "stream",
          "text": [
            "Collecting pdfminer\n",
            "\u001b[?25l  Downloading https://files.pythonhosted.org/packages/71/a3/155c5cde5f9c0b1069043b2946a93f54a41fd72cc19c6c100f6f2f5bdc15/pdfminer-20191125.tar.gz (4.2MB)\n",
            "\u001b[K     |████████████████████████████████| 4.2MB 2.1MB/s \n",
            "\u001b[?25hCollecting pycryptodome\n",
            "\u001b[?25l  Downloading https://files.pythonhosted.org/packages/17/55/17fa0b55849dc135f7bc400993a9206bf06d1b5d9520b0bc8d47c57aaef5/pycryptodome-3.9.8-cp36-cp36m-manylinux1_x86_64.whl (13.7MB)\n",
            "\u001b[K     |████████████████████████████████| 13.7MB 302kB/s \n",
            "\u001b[?25hBuilding wheels for collected packages: pdfminer\n",
            "  Building wheel for pdfminer (setup.py) ... \u001b[?25l\u001b[?25hdone\n",
            "  Created wheel for pdfminer: filename=pdfminer-20191125-cp36-none-any.whl size=6140065 sha256=24ccbfb1123bf91de8d90bcc821827c77968635281523ff6b9bcd720bba91769\n",
            "  Stored in directory: /root/.cache/pip/wheels/e1/00/af/720a55d74ba3615bb4709a3ded6dd71dc5370a586a0ff6f326\n",
            "Successfully built pdfminer\n",
            "Installing collected packages: pycryptodome, pdfminer\n",
            "Successfully installed pdfminer-20191125 pycryptodome-3.9.8\n",
            "Collecting pdfminer.six\n",
            "\u001b[?25l  Downloading https://files.pythonhosted.org/packages/98/12/ab5ebafc4cb2b49847de7bfc26f2d152f42a4af136263152d070c61dfd7d/pdfminer.six-20200726-py3-none-any.whl (5.6MB)\n",
            "\u001b[K     |████████████████████████████████| 5.6MB 2.7MB/s \n",
            "\u001b[?25hRequirement already satisfied: chardet; python_version > \"3.0\" in /usr/local/lib/python3.6/dist-packages (from pdfminer.six) (3.0.4)\n",
            "Collecting cryptography\n",
            "\u001b[?25l  Downloading https://files.pythonhosted.org/packages/ba/91/84a29d6a27fd6dfc21f475704c4d2053d58ed7a4033c2b0ce1b4ca4d03d9/cryptography-3.0-cp35-abi3-manylinux2010_x86_64.whl (2.7MB)\n",
            "\u001b[K     |████████████████████████████████| 2.7MB 46.0MB/s \n",
            "\u001b[?25hRequirement already satisfied: sortedcontainers in /usr/local/lib/python3.6/dist-packages (from pdfminer.six) (2.2.2)\n",
            "Requirement already satisfied: six>=1.4.1 in /usr/local/lib/python3.6/dist-packages (from cryptography->pdfminer.six) (1.15.0)\n",
            "Requirement already satisfied: cffi!=1.11.3,>=1.8 in /usr/local/lib/python3.6/dist-packages (from cryptography->pdfminer.six) (1.14.1)\n",
            "Requirement already satisfied: pycparser in /usr/local/lib/python3.6/dist-packages (from cffi!=1.11.3,>=1.8->cryptography->pdfminer.six) (2.20)\n",
            "Installing collected packages: cryptography, pdfminer.six\n",
            "Successfully installed cryptography-3.0 pdfminer.six-20200726\n",
            "Collecting py-thesaurus\n",
            "  Downloading https://files.pythonhosted.org/packages/11/82/56dab6aa24852367b43913e91990c562db49d9b05fc373531fe268fe3525/py_thesaurus-1.0.5.tar.gz\n",
            "Requirement already satisfied: lxml in /usr/local/lib/python3.6/dist-packages (from py-thesaurus) (4.2.6)\n",
            "Requirement already satisfied: beautifulsoup4 in /usr/local/lib/python3.6/dist-packages (from py-thesaurus) (4.6.3)\n",
            "Building wheels for collected packages: py-thesaurus\n",
            "  Building wheel for py-thesaurus (setup.py) ... \u001b[?25l\u001b[?25hdone\n",
            "  Created wheel for py-thesaurus: filename=py_thesaurus-1.0.5-cp36-none-any.whl size=6269 sha256=84e17737295bd2ddf67907744a208aac494f0e538e34545da9fdca0dcff89168\n",
            "  Stored in directory: /root/.cache/pip/wheels/a6/c1/5a/124ea0abccb2ed21abcea99f376cd37d4dc99c8aa515a471f1\n",
            "Successfully built py-thesaurus\n",
            "Installing collected packages: py-thesaurus\n",
            "Successfully installed py-thesaurus-1.0.5\n",
            "Collecting fuzzywuzzy\n",
            "  Downloading https://files.pythonhosted.org/packages/43/ff/74f23998ad2f93b945c0309f825be92e04e0348e062026998b5eefef4c33/fuzzywuzzy-0.18.0-py2.py3-none-any.whl\n",
            "Installing collected packages: fuzzywuzzy\n",
            "Successfully installed fuzzywuzzy-0.18.0\n",
            "Requirement already satisfied: fuzzywuzzy[speedup] in /usr/local/lib/python3.6/dist-packages (0.18.0)\n",
            "Collecting python-levenshtein>=0.12; extra == \"speedup\"\n",
            "\u001b[?25l  Downloading https://files.pythonhosted.org/packages/42/a9/d1785c85ebf9b7dfacd08938dd028209c34a0ea3b1bcdb895208bd40a67d/python-Levenshtein-0.12.0.tar.gz (48kB)\n",
            "\u001b[K     |████████████████████████████████| 51kB 1.5MB/s \n",
            "\u001b[?25hRequirement already satisfied: setuptools in /usr/local/lib/python3.6/dist-packages (from python-levenshtein>=0.12; extra == \"speedup\"->fuzzywuzzy[speedup]) (49.2.0)\n",
            "Building wheels for collected packages: python-levenshtein\n",
            "  Building wheel for python-levenshtein (setup.py) ... \u001b[?25l\u001b[?25hdone\n",
            "  Created wheel for python-levenshtein: filename=python_Levenshtein-0.12.0-cp36-cp36m-linux_x86_64.whl size=144795 sha256=e95fb23044f938b39a6759870f0dac25fb6daaf9addc0acc87792855a88c1aed\n",
            "  Stored in directory: /root/.cache/pip/wheels/de/c2/93/660fd5f7559049268ad2dc6d81c4e39e9e36518766eaf7e342\n",
            "Successfully built python-levenshtein\n",
            "Installing collected packages: python-levenshtein\n",
            "Successfully installed python-levenshtein-0.12.0\n",
            "[nltk_data] Downloading package wordnet to /root/nltk_data...\n",
            "[nltk_data]   Unzipping corpora/wordnet.zip.\n"
          ],
          "name": "stdout"
        }
      ]
    },
    {
      "cell_type": "code",
      "metadata": {
        "id": "5PhTw7raqNf9",
        "colab_type": "code",
        "colab": {
          "resources": {
            "http://localhost:8080/nbextensions/google.colab/files.js": {
              "data": "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",
              "ok": true,
              "headers": [
                [
                  "content-type",
                  "application/javascript"
                ]
              ],
              "status": 200,
              "status_text": ""
            }
          },
          "base_uri": "https://localhost:8080/",
          "height": 89
        },
        "outputId": "1da4e475-695f-46dc-834e-4e5573f2a012"
      },
      "source": [
        "from google.colab import files\n",
        "uploaded=files.upload()\n",
        "print(uploaded.keys())"
      ],
      "execution_count": 4,
      "outputs": [
        {
          "output_type": "display_data",
          "data": {
            "text/html": [
              "\n",
              "     <input type=\"file\" id=\"files-0b129157-e048-40df-9d09-02e0de08a652\" name=\"files[]\" multiple disabled\n",
              "        style=\"border:none\" />\n",
              "     <output id=\"result-0b129157-e048-40df-9d09-02e0de08a652\">\n",
              "      Upload widget is only available when the cell has been executed in the\n",
              "      current browser session. Please rerun this cell to enable.\n",
              "      </output>\n",
              "      <script src=\"/nbextensions/google.colab/files.js\"></script> "
            ],
            "text/plain": [
              "<IPython.core.display.HTML object>"
            ]
          },
          "metadata": {
            "tags": []
          }
        },
        {
          "output_type": "stream",
          "text": [
            "Saving Coopon.csv to Coopon.csv\n",
            "dict_keys(['Coopon.csv'])\n"
          ],
          "name": "stdout"
        }
      ]
    },
    {
      "cell_type": "code",
      "metadata": {
        "id": "98e-60ROqeQl",
        "colab_type": "code",
        "colab": {
          "base_uri": "https://localhost:8080/",
          "height": 357
        },
        "outputId": "e21e8c82-eef3-4167-91bb-8208c4e37c0f"
      },
      "source": [
        "data = pd.read_csv(list(uploaded.keys())[0],sep=\",\")\n",
        "data.info()\n",
        "data.head()"
      ],
      "execution_count": 5,
      "outputs": [
        {
          "output_type": "stream",
          "text": [
            "<class 'pandas.core.frame.DataFrame'>\n",
            "RangeIndex: 52 entries, 0 to 51\n",
            "Data columns (total 2 columns):\n",
            " #   Column           Non-Null Count  Dtype \n",
            "---  ------           --------------  ----- \n",
            " 0   ISIN             52 non-null     object\n",
            " 1   couponfrequency  52 non-null     int64 \n",
            "dtypes: int64(1), object(1)\n",
            "memory usage: 960.0+ bytes\n"
          ],
          "name": "stdout"
        },
        {
          "output_type": "execute_result",
          "data": {
            "text/html": [
              "<div>\n",
              "<style scoped>\n",
              "    .dataframe tbody tr th:only-of-type {\n",
              "        vertical-align: middle;\n",
              "    }\n",
              "\n",
              "    .dataframe tbody tr th {\n",
              "        vertical-align: top;\n",
              "    }\n",
              "\n",
              "    .dataframe thead th {\n",
              "        text-align: right;\n",
              "    }\n",
              "</style>\n",
              "<table border=\"1\" class=\"dataframe\">\n",
              "  <thead>\n",
              "    <tr style=\"text-align: right;\">\n",
              "      <th></th>\n",
              "      <th>ISIN</th>\n",
              "      <th>couponfrequency</th>\n",
              "    </tr>\n",
              "  </thead>\n",
              "  <tbody>\n",
              "    <tr>\n",
              "      <th>0</th>\n",
              "      <td>XS1241063970</td>\n",
              "      <td>12</td>\n",
              "    </tr>\n",
              "    <tr>\n",
              "      <th>1</th>\n",
              "      <td>USU1944MAB10</td>\n",
              "      <td>1</td>\n",
              "    </tr>\n",
              "    <tr>\n",
              "      <th>2</th>\n",
              "      <td>USG7000WAA56</td>\n",
              "      <td>3</td>\n",
              "    </tr>\n",
              "    <tr>\n",
              "      <th>3</th>\n",
              "      <td>US22535KAA16</td>\n",
              "      <td>1</td>\n",
              "    </tr>\n",
              "    <tr>\n",
              "      <th>4</th>\n",
              "      <td>US17324CED48</td>\n",
              "      <td>3</td>\n",
              "    </tr>\n",
              "  </tbody>\n",
              "</table>\n",
              "</div>"
            ],
            "text/plain": [
              "           ISIN  couponfrequency\n",
              "0  XS1241063970               12\n",
              "1  USU1944MAB10                1\n",
              "2  USG7000WAA56                3\n",
              "3  US22535KAA16                1\n",
              "4  US17324CED48                3"
            ]
          },
          "metadata": {
            "tags": []
          },
          "execution_count": 5
        }
      ]
    },
    {
      "cell_type": "code",
      "metadata": {
        "id": "Na_jt38WuVp_",
        "colab_type": "code",
        "colab": {}
      },
      "source": [
        ""
      ],
      "execution_count": 5,
      "outputs": []
    },
    {
      "cell_type": "code",
      "metadata": {
        "id": "zRx5zLV6Yfaa",
        "colab_type": "code",
        "colab": {}
      },
      "source": [
        "import logging\n",
        "logging.getLogger('googleapiclient.discovery_cache').setLevel(logging.ERROR)"
      ],
      "execution_count": 6,
      "outputs": []
    },
    {
      "cell_type": "code",
      "metadata": {
        "id": "KMEZ0xJuiEGu",
        "colab_type": "code",
        "colab": {
          "base_uri": "https://localhost:8080/",
          "height": 663
        },
        "outputId": "4b5d0b24-7f24-4ba2-d095-fff3ca3462b8"
      },
      "source": [
        "file_list = drive.ListFile({'q': \"'1lcWJELrxQ7ptjLefRQcoOiojoHVnr9TF' in parents and trashed=false\"}).GetList()\n",
        "for file1 in file_list:\n",
        "  print('title: %s, id: %s' % (file1['title'], file1['id']))"
      ],
      "execution_count": 7,
      "outputs": [
        {
          "output_type": "stream",
          "text": [
            "title: USU09513HK86.pdf, id: 175AmEAKS4yRzzBODCywl_zfWbAsubPA9\n",
            "title: USU1944MAB10.pdf, id: 1s8wk3o0GEl0RQdl-r0IG1MH2K0oyo6sF\n",
            "title: USU0734DAA91.pdf, id: 1ofz9P6DdN3xOoqBU0srEKCbrH_Dodc2Q\n",
            "title: US17275RBD35.pdf, id: 1PEFNPrUKV9sV83f9c6rrJnQjPgsudXgh\n",
            "title: XS1241063970.pdf, id: 170ynkhdw0X6dLull4MIZq-Thdl06bfj4\n",
            "title: CA136375CR16.pdf, id: 1QJjbzJsl26I5l-N1AZXO5r8AzWKWPobI\n",
            "title: SE0012455400.pdf, id: 1atg982YCzJZqSRDjj7-BXMYw2s-m6eIh\n",
            "title: XS1431266920.pdf, id: 1DJ1NwS0xWU1YRIhIqJfOmI0jITgjmRJz\n",
            "title: INE848E07AQ9.pdf, id: 1qYfaaSMYU7CWiJzpYGMJSHOnEIdk4G51\n",
            "title: IT0005220998.pdf, id: 103DLDVepYlVo604ccTWPLB5ESvXXl8OD\n",
            "title: US341081FR38.pdf, id: 1lsK7VBwS4vsWj1a9CVDiK3cWYytL2aEN\n",
            "title: US46646EX232.pdf, id: 1uqHClMmDp8Y8KYdq_P3LUyJICKnRCRJZ\n",
            "title: US17324CED48.pdf, id: 1MxeEeJceJFljeZyHjyKKcMO_0mbWQQif\n",
            "title: US06048WUR95.pdf, id: 1aR5iYrIMkFK0VgR2LlI-EfhaLwy9ctKD\n",
            "title: XS0809885162.pdf, id: 1ghU8_-AHxImsHb8An_buk_l2UblovGYv\n",
            "title: IT0005390841.pdf, id: 1hrM-4l_YfCYxv2a9RrT02pvS_ADDhtXq\n",
            "title: US87246MAE21.pdf, id: 1YPRImuRfiMbFWs2qN5WshTD4v8vyY6Dw\n",
            "title: US842434CR16.pdf, id: 1lMxjGudPmtHFaNvCMeQJAZcryu4yhmLI\n",
            "title: USL56473AA67.pdf, id: 1sgSURfcjWMvgZzwXgM8yutqDZlDCsiOV\n",
            "title: US4042K1VX80.pdf, id: 187z29elPrzhDTP-ZE2FXJ3ctEGm3bxk8\n",
            "title: XS1669141753.pdf, id: 1kv2W6TMN-wemfKZbWNL9BhmZq7GhlOj5\n",
            "title: US87246MAG78.pdf, id: 1byVBr3vJHqKKSiuuwu-n_u_142_1ZiJR\n",
            "title: XS1569804120.pdf, id: 1Lx-rs4JI24CAuS6-8EHbxmynopUG09_M\n",
            "title: US92564RAA32.pdf, id: 1w47tA5XnIpgi4F087GCi-CTu6-tw6ZOJ\n",
            "title: XS1380394806.pdf, id: 1lTZ7t25OTa4AHVU0Y-32wF8yskUD1oBK\n",
            "title: CA13607GFB55.pdf, id: 1j8FVN8ddlx1tQkhsFUdjhQQok_raFKfV\n",
            "title: XS1484811135.pdf, id: 1brr48VojanXNKW08UcHovIDuG33waZ8d\n",
            "title: SE0012193860.pdf, id: 1l3creQ3H6g8QSxPMBixlFxF1v8gwacYa\n",
            "title: NO0010867864.pdf, id: 19rdie2TXgu7oymFaW2QNJmt284VLT5ys\n",
            "title: XS1633950453.pdf, id: 1lcQhRdTDWEk4K8JJE5W6Ufe_UIA0Ktkd\n",
            "title: FR0012686145.pdf, id: 10lOixeMVvZZkE6Fmbu0BE4el6I1XRCLS\n",
            "title: USG7000WAA56.pdf, id: 1H8clqv51uM6KJkG5uRNPGQ5-wWNzu2oP\n",
            "title: US163086AA92.pdf, id: 1-v-Spy8seqC0P3Oj-zTHXxg18chn7RI6\n",
            "title: XS1298740314.pdf, id: 1tB20t6h9_XyPZoISCWT4sZluJpnQvKWX\n",
            "title: US22535KAA16.pdf, id: 1d7e0IBFXYjqnmhDKZbQeCXwAlj9LtSKX\n",
            "title: USG7000WAB30.pdf, id: 1W_CBwC4gLD2Y48bxmzYBL60Pk8Y7GDq_\n",
            "title: XS1882681536.pdf, id: 1RVY0R2P1pii3hb_lPjgFDXwz2xf7yPHl\n",
            "title: XS1498549325.pdf, id: 1I_NDmJAlHrRsuebrRjY6uz3vpyrQPYdh\n"
          ],
          "name": "stdout"
        }
      ]
    },
    {
      "cell_type": "code",
      "metadata": {
        "id": "nGfQpF0LY1Ke",
        "colab_type": "code",
        "colab": {
          "base_uri": "https://localhost:8080/",
          "height": 34
        },
        "outputId": "caea9839-31e6-45c2-a398-dbc25f6c5955"
      },
      "source": [
        "file_list = drive.ListFile({'q': \"'1lcWJELrxQ7ptjLefRQcoOiojoHVnr9TF' in parents and trashed=false\"}).GetList()\n",
        "len(file_list)"
      ],
      "execution_count": 8,
      "outputs": [
        {
          "output_type": "execute_result",
          "data": {
            "text/plain": [
              "38"
            ]
          },
          "metadata": {
            "tags": []
          },
          "execution_count": 8
        }
      ]
    },
    {
      "cell_type": "code",
      "metadata": {
        "id": "2-HEiUUkwPIk",
        "colab_type": "code",
        "colab": {
          "base_uri": "https://localhost:8080/",
          "height": 663
        },
        "outputId": "1530e889-d2ff-446c-c2cd-7598d626bdb8"
      },
      "source": [
        "for file1 in file_list:\n",
        "  curr=file1['title']\n",
        "  for i in range(0,len(data)):\n",
        "    if(data.iloc[i][0]==curr[:-4]):\n",
        "      print(data.iloc[i][0], data.iloc[i][1])"
      ],
      "execution_count": 9,
      "outputs": [
        {
          "output_type": "stream",
          "text": [
            "USU09513HK86 6\n",
            "USU1944MAB10 1\n",
            "USU0734DAA91 1\n",
            "US17275RBD35 6\n",
            "XS1241063970 12\n",
            "CA136375CR16 6\n",
            "SE0012455400 3\n",
            "XS1431266920 6\n",
            "INE848E07AQ9 12\n",
            "IT0005220998 3\n",
            "US341081FR38 6\n",
            "US46646EX232 3\n",
            "US17324CED48 3\n",
            "US06048WUR95 3\n",
            "XS0809885162 12\n",
            "IT0005390841 3\n",
            "US87246MAE21 3\n",
            "US842434CR16 6\n",
            "USL56473AA67 6\n",
            "US4042K1VX80 3\n",
            "XS1669141753 3\n",
            "US87246MAG78 3\n",
            "XS1569804120 12\n",
            "US92564RAA32 6\n",
            "XS1380394806 12\n",
            "CA13607GFB55 6\n",
            "XS1484811135 6\n",
            "SE0012193860 12\n",
            "NO0010867864 12\n",
            "XS1633950453 6\n",
            "FR0012686145 6\n",
            "USG7000WAA56 3\n",
            "US163086AA92 6\n",
            "XS1298740314 12\n",
            "US22535KAA16 1\n",
            "USG7000WAB30 3\n",
            "XS1882681536 6\n",
            "XS1498549325 12\n"
          ],
          "name": "stdout"
        }
      ]
    },
    {
      "cell_type": "code",
      "metadata": {
        "id": "wivAR6qlfyDI",
        "colab_type": "code",
        "colab": {}
      },
      "source": [
        "def syn(synonyms): \n",
        "  temps=[]\n",
        "  for i in synonyms:\n",
        "    for syn in wordnet.synsets(i): \n",
        "      for l in syn.lemmas(): \n",
        "        temps.append(l.name()) \n",
        "  return set(temps)\n",
        "\n",
        "def convert_pdf_to_txt(path):\n",
        "  rsrcmgr = PDFResourceManager()\n",
        "  retstr = StringIO()\n",
        "  codec = 'utf-8'\n",
        "  laparams = LAParams()\n",
        "  device = TextConverter(rsrcmgr, retstr, codec=codec, laparams=laparams)\n",
        "  fp = open(path, 'rb')\n",
        "  interpreter = PDFPageInterpreter(rsrcmgr, device)\n",
        "  password = \"\"\n",
        "  maxpages = 0\n",
        "  caching = True\n",
        "  pagenos=set()\n",
        "\n",
        "  for page in PDFPage.get_pages(fp, pagenos, maxpages=6, password=password,caching=caching, check_extractable=True):\n",
        "      interpreter.process_page(page)\n",
        "\n",
        "  text = retstr.getvalue()\n",
        "\n",
        "  fp.close()\n",
        "  device.close()\n",
        "  retstr.close()\n",
        "  return text\n",
        "\n",
        "\n",
        "def training(important):\n",
        "  d=[]\n",
        "  for i in c:\n",
        "    if(i.strip()!=\"\"):\n",
        "      d.append(i.strip().lower())\n",
        "  o = important\n",
        "  indices=[]\n",
        "  for i in range(0,len(d)):\n",
        "    if(d[i] in o):\n",
        "      indices.append(i) \n",
        "  final=[]\n",
        "  for i in indices:\n",
        "    if(i>5 and i<indices[-1]-5):\n",
        "      for a in range(i-5,i+5):\n",
        "        if(d[a].isalnum()==False or d[a]=='' or d[a]=='/n'):\n",
        "          continue\n",
        "        else:\n",
        "          final.append(d[a])\n",
        "          \n",
        "  return final\n",
        "\n",
        "def print_results(final):\n",
        "    \n",
        "  sum_six=0\n",
        "  sum_one=0\n",
        "  sum_three=0\n",
        "  sum_twelve=0\n",
        "\n",
        "  msix=[]\n",
        "  mtwelve=[]\n",
        "  mone=[]\n",
        "  mthree=[]\n",
        "\n",
        "\n",
        "\n",
        "  for i in final:\n",
        "\n",
        "    msix.append(process.extract(i, choice_six, limit=1)[0][1])\n",
        "    msix.sort(reverse=True)\n",
        "    \n",
        "    mthree.append(process.extract(i, choice_three, limit=1)[0][1])\n",
        "    mthree.sort(reverse=True)\n",
        "\n",
        "    mtwelve.append(process.extract(i, choice_twelve, limit=1)[0][1])\n",
        "    mtwelve.sort(reverse=True)\n",
        "\n",
        "    mone.append(process.extract(i, choice_one, limit=1)[0][1])\n",
        "    mone.sort(reverse=True)\n",
        "\n",
        "  try:\n",
        "    for i in range(0,10):\n",
        "      sum_six+=msix[i]\n",
        "      sum_three+=mthree[i]\n",
        "      sum_twelve+=mtwelve[i]\n",
        "      sum_one+=mone[i]\n",
        "  except:\n",
        "    a=1\n",
        "\n",
        "    \n",
        "    \n",
        "  percent_six= sum_six/10\n",
        "  percent_one= sum_one/10\n",
        "  percent_three= sum_three/10\n",
        "  percent_twelve= sum_twelve/10\n",
        "\n",
        "  if(percent_six>percent_one and percent_six>percent_three and percent_six>percent_twelve):\n",
        "    res=6\n",
        "  elif(percent_three>percent_one and percent_three>percent_six and percent_three>percent_twelve):\n",
        "    res=3\n",
        "  elif(percent_twelve>percent_one and percent_twelve>percent_three and percent_twelve>percent_six):\n",
        "    res=12\n",
        "  else:\n",
        "    res=1\n",
        "\n",
        "  return res;"
      ],
      "execution_count": 10,
      "outputs": []
    },
    {
      "cell_type": "code",
      "metadata": {
        "id": "tic6gnZrgevY",
        "colab_type": "code",
        "colab": {}
      },
      "source": [
        "epoch= 3\n",
        "important=[\"coupon\",\"interest\",\"paid\",\"payable\",\"coupons\"]\n",
        "choice_one = [\"single\", \"monthly\", \"one month\"]\n",
        "choice_three = [\"3\",\"quarter\", \"quarterly\", \"three month\"]\n",
        "choice_six = [\"6\",\"semi-annual\", \"half-yearly\", \"six month\",\"semi annually\",\"semi-annually\"]\n",
        "choice_twelve = [\"12\",\"yearly\",\"annual\", \"annually\", \"twelve months\"]"
      ],
      "execution_count": 11,
      "outputs": []
    },
    {
      "cell_type": "code",
      "metadata": {
        "id": "1Vntms9cZKYq",
        "colab_type": "code",
        "colab": {
          "base_uri": "https://localhost:8080/",
          "height": 663
        },
        "outputId": "27220007-140a-4e0b-af96-fd89d10261b4"
      },
      "source": [
        "while(epoch!=0):\n",
        "  epoch=epoch-1\n",
        "  index=0;\n",
        "  count=0;\n",
        "  total=len(file_list)\n",
        "  for file1 in file_list:\n",
        "\n",
        "    curr=file1['title']\n",
        "    index=index+1\n",
        "    \n",
        "    for x in range(0,len(data)):\n",
        "      if(data.iloc[x][0]==curr[:-4]):\n",
        "        label=data.iloc[x][1]\n",
        "    x=convert_pdf_to_txt('/content/drive/My Drive/Colab Notebooks/Docs/%s' % (curr))\n",
        "\n",
        "    c = x.split(\" \")\n",
        "    \n",
        "    if(curr=='US17275RBD35.pdf'):\n",
        "      continue\n",
        "    \n",
        "    \n",
        "    s=training(important)\n",
        "    res= print_results(s)\n",
        "\n",
        "    print('(',index,'/38)      ''Title:',curr,'     Expected:',label,'    Algorithmic:',res)\n",
        "\n",
        "    if(label==res):\n",
        "      count=count+1\n",
        "\n",
        "  important=syn(important)  \n",
        "  print(count/total)\n",
        "  \n"
      ],
      "execution_count": 14,
      "outputs": [
        {
          "output_type": "stream",
          "text": [
            "( 1 /38)      Title: USU09513HK86.pdf      Expected: 6     Algorithmic: 3\n",
            "( 2 /38)      Title: USU1944MAB10.pdf      Expected: 1     Algorithmic: 1\n",
            "( 3 /38)      Title: USU0734DAA91.pdf      Expected: 1     Algorithmic: 1\n",
            "( 5 /38)      Title: XS1241063970.pdf      Expected: 12     Algorithmic: 6\n",
            "( 6 /38)      Title: CA136375CR16.pdf      Expected: 6     Algorithmic: 1\n",
            "( 7 /38)      Title: SE0012455400.pdf      Expected: 3     Algorithmic: 12\n",
            "( 8 /38)      Title: XS1431266920.pdf      Expected: 6     Algorithmic: 6\n",
            "( 9 /38)      Title: INE848E07AQ9.pdf      Expected: 12     Algorithmic: 12\n",
            "( 10 /38)      Title: IT0005220998.pdf      Expected: 3     Algorithmic: 3\n",
            "( 11 /38)      Title: US341081FR38.pdf      Expected: 6     Algorithmic: 12\n",
            "( 12 /38)      Title: US46646EX232.pdf      Expected: 3     Algorithmic: 12\n",
            "( 13 /38)      Title: US17324CED48.pdf      Expected: 3     Algorithmic: 3\n",
            "( 14 /38)      Title: US06048WUR95.pdf      Expected: 3     Algorithmic: 3\n",
            "( 15 /38)      Title: XS0809885162.pdf      Expected: 12     Algorithmic: 1\n",
            "( 16 /38)      Title: IT0005390841.pdf      Expected: 3     Algorithmic: 1\n",
            "( 17 /38)      Title: US87246MAE21.pdf      Expected: 3     Algorithmic: 1\n",
            "( 18 /38)      Title: US842434CR16.pdf      Expected: 6     Algorithmic: 1\n",
            "( 19 /38)      Title: USL56473AA67.pdf      Expected: 6     Algorithmic: 6\n",
            "( 20 /38)      Title: US4042K1VX80.pdf      Expected: 3     Algorithmic: 3\n",
            "( 21 /38)      Title: XS1669141753.pdf      Expected: 3     Algorithmic: 12\n",
            "( 22 /38)      Title: US87246MAG78.pdf      Expected: 3     Algorithmic: 1\n",
            "( 23 /38)      Title: XS1569804120.pdf      Expected: 12     Algorithmic: 6\n",
            "( 24 /38)      Title: US92564RAA32.pdf      Expected: 6     Algorithmic: 1\n",
            "( 25 /38)      Title: XS1380394806.pdf      Expected: 12     Algorithmic: 6\n",
            "( 26 /38)      Title: CA13607GFB55.pdf      Expected: 6     Algorithmic: 12\n",
            "( 27 /38)      Title: XS1484811135.pdf      Expected: 6     Algorithmic: 6\n",
            "( 28 /38)      Title: SE0012193860.pdf      Expected: 12     Algorithmic: 3\n",
            "( 29 /38)      Title: NO0010867864.pdf      Expected: 12     Algorithmic: 1\n",
            "( 30 /38)      Title: XS1633950453.pdf      Expected: 6     Algorithmic: 12\n",
            "( 31 /38)      Title: FR0012686145.pdf      Expected: 6     Algorithmic: 6\n",
            "( 32 /38)      Title: USG7000WAA56.pdf      Expected: 3     Algorithmic: 12\n",
            "( 33 /38)      Title: US163086AA92.pdf      Expected: 6     Algorithmic: 1\n",
            "( 34 /38)      Title: XS1298740314.pdf      Expected: 12     Algorithmic: 1\n",
            "( 35 /38)      Title: US22535KAA16.pdf      Expected: 1     Algorithmic: 12\n",
            "( 36 /38)      Title: USG7000WAB30.pdf      Expected: 3     Algorithmic: 12\n",
            "( 37 /38)      Title: XS1882681536.pdf      Expected: 6     Algorithmic: 6\n",
            "( 38 /38)      Title: XS1498549325.pdf      Expected: 12     Algorithmic: 12\n",
            "0.34210526315789475\n"
          ],
          "name": "stdout"
        }
      ]
    },
    {
      "cell_type": "code",
      "metadata": {
        "id": "QPmkrYRkfbvm",
        "colab_type": "code",
        "colab": {}
      },
      "source": [
        ""
      ],
      "execution_count": null,
      "outputs": []
    },
    {
      "cell_type": "code",
      "metadata": {
        "id": "dsuUIE4oZ8lM",
        "colab_type": "code",
        "colab": {}
      },
      "source": [
        "  "
      ],
      "execution_count": null,
      "outputs": []
    },
    {
      "cell_type": "code",
      "metadata": {
        "id": "buxqhyLpfZTC",
        "colab_type": "code",
        "colab": {}
      },
      "source": [
        ""
      ],
      "execution_count": null,
      "outputs": []
    }
  ]
}